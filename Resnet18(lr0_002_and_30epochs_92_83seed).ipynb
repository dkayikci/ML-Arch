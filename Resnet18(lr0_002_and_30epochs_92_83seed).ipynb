{
  "nbformat": 4,
  "nbformat_minor": 0,
  "metadata": {
    "colab": {
      "provenance": [],
      "machine_shape": "hm",
      "gpuType": "A100",
      "authorship_tag": "ABX9TyM9X2zAuimoERNwAtz/jRnz",
      "include_colab_link": true
    },
    "kernelspec": {
      "name": "python3",
      "display_name": "Python 3"
    },
    "language_info": {
      "name": "python"
    },
    "accelerator": "GPU"
  },
  "cells": [
    {
      "cell_type": "markdown",
      "metadata": {
        "id": "view-in-github",
        "colab_type": "text"
      },
      "source": [
        "<a href=\"https://colab.research.google.com/github/dkayikci/ML-Arch/blob/main/Resnet18(lr0_002_and_30epochs_92_83seed).ipynb\" target=\"_parent\"><img src=\"https://colab.research.google.com/assets/colab-badge.svg\" alt=\"Open In Colab\"/></a>"
      ]
    },
    {
      "cell_type": "code",
      "execution_count": null,
      "metadata": {
        "id": "PqKlbjO7u6c1",
        "colab": {
          "base_uri": "https://localhost:8080/"
        },
        "outputId": "b45e4747-f523-4e8c-8593-2382442bd615"
      },
      "outputs": [
        {
          "output_type": "stream",
          "name": "stdout",
          "text": [
            "Drive already mounted at /content/drive; to attempt to forcibly remount, call drive.mount(\"/content/drive\", force_remount=True).\n"
          ]
        }
      ],
      "source": [
        "from google.colab import drive\n",
        "drive.mount('/content/drive')\n"
      ]
    },
    {
      "cell_type": "code",
      "source": [
        "# List the contents of your Google Drive root directory\n",
        "print(\"Contents of MyDrive:\")\n",
        "!ls /content/drive/MyDrive/\n",
        "\n",
        "# List the contents of the MetaHittite directory (if it exists)\n",
        "print(\"\\nContents of MetaHittite:\")\n",
        "!ls /content/drive/MyDrive/MetaHittite/\n",
        "\n",
        "# List the contents of the stelea1500x1000pxsL2 directory (if it exists)\n",
        "print(\"\\nContents of stelea1500x1000pxsL2:\")\n",
        "!ls /content/drive/MyDrive/MetaHittite/stelea1500x1000pxsL2/\n",
        "\n",
        "print(\"\\nContents of stelea1500x1000pxsL2:\")\n",
        "!ls /content/drive/MyDrive/MetaHittite/stelea1500x1000pxsL2/FSL/\n",
        "\n",
        "print(\"\\nContents of stelea1500x1000pxsL2:\")\n",
        "!ls /content/drive/MyDrive/MetaHittite/stelea1500x1000pxsL2/FSL/supportL2_112"
      ],
      "metadata": {
        "colab": {
          "base_uri": "https://localhost:8080/"
        },
        "id": "YFBIwLrVDTiG",
        "outputId": "499b5e3a-ae36-4b13-a769-f6e1d583aec6"
      },
      "execution_count": null,
      "outputs": [
        {
          "output_type": "stream",
          "name": "stdout",
          "text": [
            "Contents of MyDrive:\n",
            " MetaHittite   UAB   UNESCO  'yl tez ve makalesi'\n",
            "\n",
            "Contents of MetaHittite:\n",
            " HittiteCNNMAML        Hittites_Only_RESNET_18\t MAMLFSLHittite    stelea1500x1000pxsL2\n",
            " Hittite_Human_Tests   kodmodeldenemeler\t'orjinal kodlar'   Untitled0.ipynb\n",
            "\n",
            "Contents of stelea1500x1000pxsL2:\n",
            "FSL  OSL  RESERVES_ALACA  RESERVES_ASLAN  RESERVES_KARKA\n",
            "\n",
            "Contents of stelea1500x1000pxsL2:\n",
            "queryL2_24  supportL2_112\n",
            "\n",
            "Contents of stelea1500x1000pxsL2:\n",
            "alaca  aslan  karka  sakca\n"
          ]
        }
      ]
    },
    {
      "cell_type": "code",
      "execution_count": null,
      "metadata": {
        "id": "7IzvtvztDaer"
      },
      "outputs": [],
      "source": [
        "import os\n",
        "os.chdir('/content/drive/MyDrive/MetaHittite/stelea1500x1000pxsL2/FSL')"
      ]
    },
    {
      "cell_type": "code",
      "source": [
        "!pip install torch torchvision\n",
        "!pip install higher\n",
        "!pip install evograd\n",
        "!pip install easyfsl\n",
        "!pip install scikit-learn\n"
      ],
      "metadata": {
        "colab": {
          "base_uri": "https://localhost:8080/"
        },
        "id": "uhXq2ODfC4IE",
        "outputId": "0744b7c9-2b2c-40f3-8edd-869055d8b1fb"
      },
      "execution_count": null,
      "outputs": [
        {
          "output_type": "stream",
          "name": "stdout",
          "text": [
            "Requirement already satisfied: torch in /usr/local/lib/python3.10/dist-packages (2.3.0+cu121)\n",
            "Requirement already satisfied: torchvision in /usr/local/lib/python3.10/dist-packages (0.18.0+cu121)\n",
            "Requirement already satisfied: filelock in /usr/local/lib/python3.10/dist-packages (from torch) (3.15.4)\n",
            "Requirement already satisfied: typing-extensions>=4.8.0 in /usr/local/lib/python3.10/dist-packages (from torch) (4.12.2)\n",
            "Requirement already satisfied: sympy in /usr/local/lib/python3.10/dist-packages (from torch) (1.12.1)\n",
            "Requirement already satisfied: networkx in /usr/local/lib/python3.10/dist-packages (from torch) (3.3)\n",
            "Requirement already satisfied: jinja2 in /usr/local/lib/python3.10/dist-packages (from torch) (3.1.4)\n",
            "Requirement already satisfied: fsspec in /usr/local/lib/python3.10/dist-packages (from torch) (2023.6.0)\n",
            "Requirement already satisfied: nvidia-cuda-nvrtc-cu12==12.1.105 in /usr/local/lib/python3.10/dist-packages (from torch) (12.1.105)\n",
            "Requirement already satisfied: nvidia-cuda-runtime-cu12==12.1.105 in /usr/local/lib/python3.10/dist-packages (from torch) (12.1.105)\n",
            "Requirement already satisfied: nvidia-cuda-cupti-cu12==12.1.105 in /usr/local/lib/python3.10/dist-packages (from torch) (12.1.105)\n",
            "Requirement already satisfied: nvidia-cudnn-cu12==8.9.2.26 in /usr/local/lib/python3.10/dist-packages (from torch) (8.9.2.26)\n",
            "Requirement already satisfied: nvidia-cublas-cu12==12.1.3.1 in /usr/local/lib/python3.10/dist-packages (from torch) (12.1.3.1)\n",
            "Requirement already satisfied: nvidia-cufft-cu12==11.0.2.54 in /usr/local/lib/python3.10/dist-packages (from torch) (11.0.2.54)\n",
            "Requirement already satisfied: nvidia-curand-cu12==10.3.2.106 in /usr/local/lib/python3.10/dist-packages (from torch) (10.3.2.106)\n",
            "Requirement already satisfied: nvidia-cusolver-cu12==11.4.5.107 in /usr/local/lib/python3.10/dist-packages (from torch) (11.4.5.107)\n",
            "Requirement already satisfied: nvidia-cusparse-cu12==12.1.0.106 in /usr/local/lib/python3.10/dist-packages (from torch) (12.1.0.106)\n",
            "Requirement already satisfied: nvidia-nccl-cu12==2.20.5 in /usr/local/lib/python3.10/dist-packages (from torch) (2.20.5)\n",
            "Requirement already satisfied: nvidia-nvtx-cu12==12.1.105 in /usr/local/lib/python3.10/dist-packages (from torch) (12.1.105)\n",
            "Requirement already satisfied: triton==2.3.0 in /usr/local/lib/python3.10/dist-packages (from torch) (2.3.0)\n",
            "Requirement already satisfied: nvidia-nvjitlink-cu12 in /usr/local/lib/python3.10/dist-packages (from nvidia-cusolver-cu12==11.4.5.107->torch) (12.5.82)\n",
            "Requirement already satisfied: numpy in /usr/local/lib/python3.10/dist-packages (from torchvision) (1.25.2)\n",
            "Requirement already satisfied: pillow!=8.3.*,>=5.3.0 in /usr/local/lib/python3.10/dist-packages (from torchvision) (9.4.0)\n",
            "Requirement already satisfied: MarkupSafe>=2.0 in /usr/local/lib/python3.10/dist-packages (from jinja2->torch) (2.1.5)\n",
            "Requirement already satisfied: mpmath<1.4.0,>=1.1.0 in /usr/local/lib/python3.10/dist-packages (from sympy->torch) (1.3.0)\n",
            "Requirement already satisfied: higher in /usr/local/lib/python3.10/dist-packages (0.2.1)\n",
            "Requirement already satisfied: torch in /usr/local/lib/python3.10/dist-packages (from higher) (2.3.0+cu121)\n",
            "Requirement already satisfied: filelock in /usr/local/lib/python3.10/dist-packages (from torch->higher) (3.15.4)\n",
            "Requirement already satisfied: typing-extensions>=4.8.0 in /usr/local/lib/python3.10/dist-packages (from torch->higher) (4.12.2)\n",
            "Requirement already satisfied: sympy in /usr/local/lib/python3.10/dist-packages (from torch->higher) (1.12.1)\n",
            "Requirement already satisfied: networkx in /usr/local/lib/python3.10/dist-packages (from torch->higher) (3.3)\n",
            "Requirement already satisfied: jinja2 in /usr/local/lib/python3.10/dist-packages (from torch->higher) (3.1.4)\n",
            "Requirement already satisfied: fsspec in /usr/local/lib/python3.10/dist-packages (from torch->higher) (2023.6.0)\n",
            "Requirement already satisfied: nvidia-cuda-nvrtc-cu12==12.1.105 in /usr/local/lib/python3.10/dist-packages (from torch->higher) (12.1.105)\n",
            "Requirement already satisfied: nvidia-cuda-runtime-cu12==12.1.105 in /usr/local/lib/python3.10/dist-packages (from torch->higher) (12.1.105)\n",
            "Requirement already satisfied: nvidia-cuda-cupti-cu12==12.1.105 in /usr/local/lib/python3.10/dist-packages (from torch->higher) (12.1.105)\n",
            "Requirement already satisfied: nvidia-cudnn-cu12==8.9.2.26 in /usr/local/lib/python3.10/dist-packages (from torch->higher) (8.9.2.26)\n",
            "Requirement already satisfied: nvidia-cublas-cu12==12.1.3.1 in /usr/local/lib/python3.10/dist-packages (from torch->higher) (12.1.3.1)\n",
            "Requirement already satisfied: nvidia-cufft-cu12==11.0.2.54 in /usr/local/lib/python3.10/dist-packages (from torch->higher) (11.0.2.54)\n",
            "Requirement already satisfied: nvidia-curand-cu12==10.3.2.106 in /usr/local/lib/python3.10/dist-packages (from torch->higher) (10.3.2.106)\n",
            "Requirement already satisfied: nvidia-cusolver-cu12==11.4.5.107 in /usr/local/lib/python3.10/dist-packages (from torch->higher) (11.4.5.107)\n",
            "Requirement already satisfied: nvidia-cusparse-cu12==12.1.0.106 in /usr/local/lib/python3.10/dist-packages (from torch->higher) (12.1.0.106)\n",
            "Requirement already satisfied: nvidia-nccl-cu12==2.20.5 in /usr/local/lib/python3.10/dist-packages (from torch->higher) (2.20.5)\n",
            "Requirement already satisfied: nvidia-nvtx-cu12==12.1.105 in /usr/local/lib/python3.10/dist-packages (from torch->higher) (12.1.105)\n",
            "Requirement already satisfied: triton==2.3.0 in /usr/local/lib/python3.10/dist-packages (from torch->higher) (2.3.0)\n",
            "Requirement already satisfied: nvidia-nvjitlink-cu12 in /usr/local/lib/python3.10/dist-packages (from nvidia-cusolver-cu12==11.4.5.107->torch->higher) (12.5.82)\n",
            "Requirement already satisfied: MarkupSafe>=2.0 in /usr/local/lib/python3.10/dist-packages (from jinja2->torch->higher) (2.1.5)\n",
            "Requirement already satisfied: mpmath<1.4.0,>=1.1.0 in /usr/local/lib/python3.10/dist-packages (from sympy->torch->higher) (1.3.0)\n",
            "Requirement already satisfied: evograd in /usr/local/lib/python3.10/dist-packages (0.1.2)\n",
            "Requirement already satisfied: numpy in /usr/local/lib/python3.10/dist-packages (from evograd) (1.25.2)\n",
            "Requirement already satisfied: torch in /usr/local/lib/python3.10/dist-packages (from evograd) (2.3.0+cu121)\n",
            "Requirement already satisfied: filelock in /usr/local/lib/python3.10/dist-packages (from torch->evograd) (3.15.4)\n",
            "Requirement already satisfied: typing-extensions>=4.8.0 in /usr/local/lib/python3.10/dist-packages (from torch->evograd) (4.12.2)\n",
            "Requirement already satisfied: sympy in /usr/local/lib/python3.10/dist-packages (from torch->evograd) (1.12.1)\n",
            "Requirement already satisfied: networkx in /usr/local/lib/python3.10/dist-packages (from torch->evograd) (3.3)\n",
            "Requirement already satisfied: jinja2 in /usr/local/lib/python3.10/dist-packages (from torch->evograd) (3.1.4)\n",
            "Requirement already satisfied: fsspec in /usr/local/lib/python3.10/dist-packages (from torch->evograd) (2023.6.0)\n",
            "Requirement already satisfied: nvidia-cuda-nvrtc-cu12==12.1.105 in /usr/local/lib/python3.10/dist-packages (from torch->evograd) (12.1.105)\n",
            "Requirement already satisfied: nvidia-cuda-runtime-cu12==12.1.105 in /usr/local/lib/python3.10/dist-packages (from torch->evograd) (12.1.105)\n",
            "Requirement already satisfied: nvidia-cuda-cupti-cu12==12.1.105 in /usr/local/lib/python3.10/dist-packages (from torch->evograd) (12.1.105)\n",
            "Requirement already satisfied: nvidia-cudnn-cu12==8.9.2.26 in /usr/local/lib/python3.10/dist-packages (from torch->evograd) (8.9.2.26)\n",
            "Requirement already satisfied: nvidia-cublas-cu12==12.1.3.1 in /usr/local/lib/python3.10/dist-packages (from torch->evograd) (12.1.3.1)\n",
            "Requirement already satisfied: nvidia-cufft-cu12==11.0.2.54 in /usr/local/lib/python3.10/dist-packages (from torch->evograd) (11.0.2.54)\n",
            "Requirement already satisfied: nvidia-curand-cu12==10.3.2.106 in /usr/local/lib/python3.10/dist-packages (from torch->evograd) (10.3.2.106)\n",
            "Requirement already satisfied: nvidia-cusolver-cu12==11.4.5.107 in /usr/local/lib/python3.10/dist-packages (from torch->evograd) (11.4.5.107)\n",
            "Requirement already satisfied: nvidia-cusparse-cu12==12.1.0.106 in /usr/local/lib/python3.10/dist-packages (from torch->evograd) (12.1.0.106)\n",
            "Requirement already satisfied: nvidia-nccl-cu12==2.20.5 in /usr/local/lib/python3.10/dist-packages (from torch->evograd) (2.20.5)\n",
            "Requirement already satisfied: nvidia-nvtx-cu12==12.1.105 in /usr/local/lib/python3.10/dist-packages (from torch->evograd) (12.1.105)\n",
            "Requirement already satisfied: triton==2.3.0 in /usr/local/lib/python3.10/dist-packages (from torch->evograd) (2.3.0)\n",
            "Requirement already satisfied: nvidia-nvjitlink-cu12 in /usr/local/lib/python3.10/dist-packages (from nvidia-cusolver-cu12==11.4.5.107->torch->evograd) (12.5.82)\n",
            "Requirement already satisfied: MarkupSafe>=2.0 in /usr/local/lib/python3.10/dist-packages (from jinja2->torch->evograd) (2.1.5)\n",
            "Requirement already satisfied: mpmath<1.4.0,>=1.1.0 in /usr/local/lib/python3.10/dist-packages (from sympy->torch->evograd) (1.3.0)\n",
            "Requirement already satisfied: easyfsl in /usr/local/lib/python3.10/dist-packages (1.5.0)\n",
            "Requirement already satisfied: matplotlib>=3.0.0 in /usr/local/lib/python3.10/dist-packages (from easyfsl) (3.7.1)\n",
            "Requirement already satisfied: pandas>=1.5.0 in /usr/local/lib/python3.10/dist-packages (from easyfsl) (2.0.3)\n",
            "Requirement already satisfied: torch>=1.5.0 in /usr/local/lib/python3.10/dist-packages (from easyfsl) (2.3.0+cu121)\n",
            "Requirement already satisfied: torchvision>=0.7.0 in /usr/local/lib/python3.10/dist-packages (from easyfsl) (0.18.0+cu121)\n",
            "Requirement already satisfied: tqdm>=4.1.0 in /usr/local/lib/python3.10/dist-packages (from easyfsl) (4.66.4)\n",
            "Requirement already satisfied: contourpy>=1.0.1 in /usr/local/lib/python3.10/dist-packages (from matplotlib>=3.0.0->easyfsl) (1.2.1)\n",
            "Requirement already satisfied: cycler>=0.10 in /usr/local/lib/python3.10/dist-packages (from matplotlib>=3.0.0->easyfsl) (0.12.1)\n",
            "Requirement already satisfied: fonttools>=4.22.0 in /usr/local/lib/python3.10/dist-packages (from matplotlib>=3.0.0->easyfsl) (4.53.0)\n",
            "Requirement already satisfied: kiwisolver>=1.0.1 in /usr/local/lib/python3.10/dist-packages (from matplotlib>=3.0.0->easyfsl) (1.4.5)\n",
            "Requirement already satisfied: numpy>=1.20 in /usr/local/lib/python3.10/dist-packages (from matplotlib>=3.0.0->easyfsl) (1.25.2)\n",
            "Requirement already satisfied: packaging>=20.0 in /usr/local/lib/python3.10/dist-packages (from matplotlib>=3.0.0->easyfsl) (24.1)\n",
            "Requirement already satisfied: pillow>=6.2.0 in /usr/local/lib/python3.10/dist-packages (from matplotlib>=3.0.0->easyfsl) (9.4.0)\n",
            "Requirement already satisfied: pyparsing>=2.3.1 in /usr/local/lib/python3.10/dist-packages (from matplotlib>=3.0.0->easyfsl) (3.1.2)\n",
            "Requirement already satisfied: python-dateutil>=2.7 in /usr/local/lib/python3.10/dist-packages (from matplotlib>=3.0.0->easyfsl) (2.8.2)\n",
            "Requirement already satisfied: pytz>=2020.1 in /usr/local/lib/python3.10/dist-packages (from pandas>=1.5.0->easyfsl) (2023.4)\n",
            "Requirement already satisfied: tzdata>=2022.1 in /usr/local/lib/python3.10/dist-packages (from pandas>=1.5.0->easyfsl) (2024.1)\n",
            "Requirement already satisfied: filelock in /usr/local/lib/python3.10/dist-packages (from torch>=1.5.0->easyfsl) (3.15.4)\n",
            "Requirement already satisfied: typing-extensions>=4.8.0 in /usr/local/lib/python3.10/dist-packages (from torch>=1.5.0->easyfsl) (4.12.2)\n",
            "Requirement already satisfied: sympy in /usr/local/lib/python3.10/dist-packages (from torch>=1.5.0->easyfsl) (1.12.1)\n",
            "Requirement already satisfied: networkx in /usr/local/lib/python3.10/dist-packages (from torch>=1.5.0->easyfsl) (3.3)\n",
            "Requirement already satisfied: jinja2 in /usr/local/lib/python3.10/dist-packages (from torch>=1.5.0->easyfsl) (3.1.4)\n",
            "Requirement already satisfied: fsspec in /usr/local/lib/python3.10/dist-packages (from torch>=1.5.0->easyfsl) (2023.6.0)\n",
            "Requirement already satisfied: nvidia-cuda-nvrtc-cu12==12.1.105 in /usr/local/lib/python3.10/dist-packages (from torch>=1.5.0->easyfsl) (12.1.105)\n",
            "Requirement already satisfied: nvidia-cuda-runtime-cu12==12.1.105 in /usr/local/lib/python3.10/dist-packages (from torch>=1.5.0->easyfsl) (12.1.105)\n",
            "Requirement already satisfied: nvidia-cuda-cupti-cu12==12.1.105 in /usr/local/lib/python3.10/dist-packages (from torch>=1.5.0->easyfsl) (12.1.105)\n",
            "Requirement already satisfied: nvidia-cudnn-cu12==8.9.2.26 in /usr/local/lib/python3.10/dist-packages (from torch>=1.5.0->easyfsl) (8.9.2.26)\n",
            "Requirement already satisfied: nvidia-cublas-cu12==12.1.3.1 in /usr/local/lib/python3.10/dist-packages (from torch>=1.5.0->easyfsl) (12.1.3.1)\n",
            "Requirement already satisfied: nvidia-cufft-cu12==11.0.2.54 in /usr/local/lib/python3.10/dist-packages (from torch>=1.5.0->easyfsl) (11.0.2.54)\n",
            "Requirement already satisfied: nvidia-curand-cu12==10.3.2.106 in /usr/local/lib/python3.10/dist-packages (from torch>=1.5.0->easyfsl) (10.3.2.106)\n",
            "Requirement already satisfied: nvidia-cusolver-cu12==11.4.5.107 in /usr/local/lib/python3.10/dist-packages (from torch>=1.5.0->easyfsl) (11.4.5.107)\n",
            "Requirement already satisfied: nvidia-cusparse-cu12==12.1.0.106 in /usr/local/lib/python3.10/dist-packages (from torch>=1.5.0->easyfsl) (12.1.0.106)\n",
            "Requirement already satisfied: nvidia-nccl-cu12==2.20.5 in /usr/local/lib/python3.10/dist-packages (from torch>=1.5.0->easyfsl) (2.20.5)\n",
            "Requirement already satisfied: nvidia-nvtx-cu12==12.1.105 in /usr/local/lib/python3.10/dist-packages (from torch>=1.5.0->easyfsl) (12.1.105)\n",
            "Requirement already satisfied: triton==2.3.0 in /usr/local/lib/python3.10/dist-packages (from torch>=1.5.0->easyfsl) (2.3.0)\n",
            "Requirement already satisfied: nvidia-nvjitlink-cu12 in /usr/local/lib/python3.10/dist-packages (from nvidia-cusolver-cu12==11.4.5.107->torch>=1.5.0->easyfsl) (12.5.82)\n",
            "Requirement already satisfied: six>=1.5 in /usr/local/lib/python3.10/dist-packages (from python-dateutil>=2.7->matplotlib>=3.0.0->easyfsl) (1.16.0)\n",
            "Requirement already satisfied: MarkupSafe>=2.0 in /usr/local/lib/python3.10/dist-packages (from jinja2->torch>=1.5.0->easyfsl) (2.1.5)\n",
            "Requirement already satisfied: mpmath<1.4.0,>=1.1.0 in /usr/local/lib/python3.10/dist-packages (from sympy->torch>=1.5.0->easyfsl) (1.3.0)\n",
            "Requirement already satisfied: scikit-learn in /usr/local/lib/python3.10/dist-packages (1.2.2)\n",
            "Requirement already satisfied: numpy>=1.17.3 in /usr/local/lib/python3.10/dist-packages (from scikit-learn) (1.25.2)\n",
            "Requirement already satisfied: scipy>=1.3.2 in /usr/local/lib/python3.10/dist-packages (from scikit-learn) (1.11.4)\n",
            "Requirement already satisfied: joblib>=1.1.1 in /usr/local/lib/python3.10/dist-packages (from scikit-learn) (1.4.2)\n",
            "Requirement already satisfied: threadpoolctl>=2.0.0 in /usr/local/lib/python3.10/dist-packages (from scikit-learn) (3.5.0)\n"
          ]
        }
      ]
    },
    {
      "cell_type": "code",
      "source": [
        "import torch\n",
        "import torch.nn as nn\n",
        "import torch.optim as optim\n",
        "import torchvision.transforms as transforms\n",
        "import torchvision.datasets as datasets\n",
        "import torchvision.models as models\n",
        "import glob\n",
        "import numpy as np\n",
        "import higher\n",
        "import random\n",
        "import matplotlib.pyplot as plt\n",
        "from PIL import Image\n",
        "from copy import deepcopy\n",
        "from tqdm import tqdm\n",
        "from torch.utils.data import DataLoader, Dataset\n",
        "from torch import nn\n",
        "from torch.optim import Adam\n",
        "from torchvision.models import resnet18\n",
        "from easyfsl.samplers import TaskSampler\n",
        "from easyfsl.utils import plot_images, sliding_average\n",
        "from sklearn.metrics import confusion_matrix, classification_report\n",
        "from torchvision.transforms import Compose, Resize, ToTensor, Normalize\n",
        "from torchvision.datasets import ImageFolder"
      ],
      "metadata": {
        "id": "7NyjAz-8EI0m"
      },
      "execution_count": null,
      "outputs": []
    },
    {
      "cell_type": "code",
      "source": [
        "def set_seed(seed):\n",
        "    torch.manual_seed(seed)\n",
        "    torch.cuda.manual_seed(seed)\n",
        "    torch.cuda.manual_seed_all(seed)\n",
        "    np.random.seed(seed)\n",
        "    random.seed(seed)\n",
        "    torch.backends.cudnn.deterministic = True\n",
        "    torch.backends.cudnn.benchmark = False\n",
        "\n",
        "set_seed(42)"
      ],
      "metadata": {
        "id": "m9h7s4kVq405"
      },
      "execution_count": null,
      "outputs": []
    },
    {
      "cell_type": "code",
      "source": [
        "# Veri kümesi ve dönüşümler\n",
        "class HittiteSteleDatasetL2(torch.utils.data.Dataset):\n",
        "    def __init__(self, root, transform=None):\n",
        "        self.root = root\n",
        "        self.transform = transform\n",
        "        self.classes = sorted(os.listdir(self.root))\n",
        "        self.class_to_idx = {cls_name: i for i, cls_name in enumerate(self.classes)}\n",
        "        self.image_paths = glob.glob(self.root + \"/*/*.jpg\")\n",
        "\n",
        "    def __getitem__(self, index):\n",
        "        img_path = self.image_paths[index]\n",
        "        img = Image.open(img_path)\n",
        "        if self.transform:\n",
        "            img = self.transform(img)\n",
        "        label = self.class_to_idx[img_path.split(\"/\")[-2]]\n",
        "        return img, label\n",
        "\n",
        "    def __len__(self):\n",
        "        return len(self.image_paths)\n",
        "\n",
        "class ResNet18Modified(nn.Module):\n",
        "    def __init__(self, num_classes):\n",
        "        super().__init__()\n",
        "        self.resnet = resnet18(pretrained=True)\n",
        "        self.resnet.fc = nn.Linear(512, num_classes)\n",
        "\n",
        "    def forward(self, x):\n",
        "        return self.resnet(x)"
      ],
      "metadata": {
        "id": "i3UZLot1EQvt"
      },
      "execution_count": null,
      "outputs": []
    },
    {
      "cell_type": "code",
      "source": [
        "# Dataset Transformations\n",
        "root = \"/content/drive/MyDrive/MetaHittite/stelea1500x1000pxsL2/FSL\"\n",
        "transform = Compose([Resize((224, 224)), ToTensor(), Normalize((0.485, 0.456, 0.406), (0.229, 0.224, 0.225))])\n",
        "\n",
        "support_dataset = ImageFolder(os.path.join(root, \"supportL2_112\"), transform=transform)\n",
        "query_dataset = ImageFolder(os.path.join(root, \"queryL2_24\"), transform=transform)\n",
        "\n",
        "support_dataloader = DataLoader(support_dataset, batch_size=28, shuffle=True)\n",
        "query_dataloader = DataLoader(query_dataset, batch_size=6, shuffle=True)"
      ],
      "metadata": {
        "id": "X5NT_UCaEXXw"
      },
      "execution_count": null,
      "outputs": []
    },
    {
      "cell_type": "code",
      "source": [
        "# Training\n",
        "resnet18_modified = ResNet18Modified(num_classes=4)\n",
        "criterion = nn.CrossEntropyLoss()\n",
        "optimizer = Adam(resnet18_modified.parameters(), lr=0.002)\n",
        "\n",
        "num_epochs = 30\n",
        "for epoch in range(num_epochs):\n",
        "    for images, labels in support_dataloader:\n",
        "        optimizer.zero_grad()\n",
        "        outputs = resnet18_modified(images)\n",
        "        loss = criterion(outputs, labels)\n",
        "        loss.backward()\n",
        "        optimizer.step()\n",
        "\n",
        "        print(f'Epoch [{epoch+1}/10], Loss: {loss.item():.4f}')"
      ],
      "metadata": {
        "colab": {
          "base_uri": "https://localhost:8080/"
        },
        "id": "T30kxH5qEavY",
        "outputId": "9cccf325-2d9d-4cef-9434-033b743c1c2a"
      },
      "execution_count": null,
      "outputs": [
        {
          "output_type": "stream",
          "name": "stderr",
          "text": [
            "/usr/local/lib/python3.10/dist-packages/torchvision/models/_utils.py:208: UserWarning: The parameter 'pretrained' is deprecated since 0.13 and may be removed in the future, please use 'weights' instead.\n",
            "  warnings.warn(\n",
            "/usr/local/lib/python3.10/dist-packages/torchvision/models/_utils.py:223: UserWarning: Arguments other than a weight enum or `None` for 'weights' are deprecated since 0.13 and may be removed in the future. The current behavior is equivalent to passing `weights=ResNet18_Weights.IMAGENET1K_V1`. You can also use `weights=ResNet18_Weights.DEFAULT` to get the most up-to-date weights.\n",
            "  warnings.warn(msg)\n"
          ]
        },
        {
          "output_type": "stream",
          "name": "stdout",
          "text": [
            "Epoch [1/10], Loss: 1.5544\n",
            "Epoch [1/10], Loss: 0.8815\n",
            "Epoch [1/10], Loss: 2.9487\n",
            "Epoch [1/10], Loss: 1.9652\n",
            "Epoch [2/10], Loss: 0.6040\n",
            "Epoch [2/10], Loss: 0.5240\n",
            "Epoch [2/10], Loss: 0.8776\n",
            "Epoch [2/10], Loss: 0.9194\n",
            "Epoch [3/10], Loss: 0.5470\n",
            "Epoch [3/10], Loss: 0.6826\n",
            "Epoch [3/10], Loss: 0.7339\n",
            "Epoch [3/10], Loss: 0.5419\n",
            "Epoch [4/10], Loss: 0.4742\n",
            "Epoch [4/10], Loss: 0.4129\n",
            "Epoch [4/10], Loss: 0.4853\n",
            "Epoch [4/10], Loss: 0.1955\n",
            "Epoch [5/10], Loss: 0.2456\n",
            "Epoch [5/10], Loss: 0.4588\n",
            "Epoch [5/10], Loss: 0.2988\n",
            "Epoch [5/10], Loss: 0.2483\n",
            "Epoch [6/10], Loss: 0.1587\n",
            "Epoch [6/10], Loss: 0.2390\n",
            "Epoch [6/10], Loss: 0.2414\n",
            "Epoch [6/10], Loss: 0.6768\n",
            "Epoch [7/10], Loss: 0.2102\n",
            "Epoch [7/10], Loss: 0.0682\n",
            "Epoch [7/10], Loss: 0.5197\n",
            "Epoch [7/10], Loss: 0.6399\n",
            "Epoch [8/10], Loss: 0.3075\n",
            "Epoch [8/10], Loss: 0.1267\n",
            "Epoch [8/10], Loss: 0.1893\n",
            "Epoch [8/10], Loss: 0.2873\n",
            "Epoch [9/10], Loss: 0.1616\n",
            "Epoch [9/10], Loss: 0.2449\n",
            "Epoch [9/10], Loss: 0.3855\n",
            "Epoch [9/10], Loss: 0.4833\n",
            "Epoch [10/10], Loss: 0.2467\n",
            "Epoch [10/10], Loss: 0.1114\n",
            "Epoch [10/10], Loss: 0.2732\n",
            "Epoch [10/10], Loss: 0.3196\n",
            "Epoch [11/10], Loss: 0.2287\n",
            "Epoch [11/10], Loss: 0.1262\n",
            "Epoch [11/10], Loss: 0.3007\n",
            "Epoch [11/10], Loss: 0.2365\n",
            "Epoch [12/10], Loss: 0.1433\n",
            "Epoch [12/10], Loss: 0.1681\n",
            "Epoch [12/10], Loss: 0.0594\n",
            "Epoch [12/10], Loss: 0.2987\n",
            "Epoch [13/10], Loss: 0.0800\n",
            "Epoch [13/10], Loss: 0.0256\n",
            "Epoch [13/10], Loss: 0.0490\n",
            "Epoch [13/10], Loss: 0.0485\n",
            "Epoch [14/10], Loss: 0.0483\n",
            "Epoch [14/10], Loss: 0.0718\n",
            "Epoch [14/10], Loss: 0.0312\n",
            "Epoch [14/10], Loss: 0.2409\n",
            "Epoch [15/10], Loss: 0.0617\n",
            "Epoch [15/10], Loss: 0.1716\n",
            "Epoch [15/10], Loss: 0.0799\n",
            "Epoch [15/10], Loss: 0.0136\n",
            "Epoch [16/10], Loss: 0.0826\n",
            "Epoch [16/10], Loss: 0.1821\n",
            "Epoch [16/10], Loss: 0.0145\n",
            "Epoch [16/10], Loss: 0.2317\n",
            "Epoch [17/10], Loss: 0.2018\n",
            "Epoch [17/10], Loss: 0.5771\n",
            "Epoch [17/10], Loss: 0.0364\n",
            "Epoch [17/10], Loss: 0.0152\n",
            "Epoch [18/10], Loss: 0.0596\n",
            "Epoch [18/10], Loss: 0.1133\n",
            "Epoch [18/10], Loss: 0.3017\n",
            "Epoch [18/10], Loss: 0.1499\n",
            "Epoch [19/10], Loss: 0.0321\n",
            "Epoch [19/10], Loss: 0.0405\n",
            "Epoch [19/10], Loss: 0.0692\n",
            "Epoch [19/10], Loss: 0.1320\n",
            "Epoch [20/10], Loss: 0.1578\n",
            "Epoch [20/10], Loss: 0.1251\n",
            "Epoch [20/10], Loss: 0.0617\n",
            "Epoch [20/10], Loss: 0.3281\n",
            "Epoch [21/10], Loss: 0.0246\n",
            "Epoch [21/10], Loss: 0.0846\n",
            "Epoch [21/10], Loss: 0.2879\n",
            "Epoch [21/10], Loss: 0.3268\n",
            "Epoch [22/10], Loss: 0.1469\n",
            "Epoch [22/10], Loss: 0.0359\n",
            "Epoch [22/10], Loss: 0.2156\n",
            "Epoch [22/10], Loss: 0.0229\n",
            "Epoch [23/10], Loss: 0.0087\n",
            "Epoch [23/10], Loss: 0.0383\n",
            "Epoch [23/10], Loss: 0.1678\n",
            "Epoch [23/10], Loss: 0.0526\n",
            "Epoch [24/10], Loss: 0.0234\n",
            "Epoch [24/10], Loss: 0.0322\n",
            "Epoch [24/10], Loss: 0.0566\n",
            "Epoch [24/10], Loss: 0.0380\n",
            "Epoch [25/10], Loss: 0.5243\n",
            "Epoch [25/10], Loss: 0.0991\n",
            "Epoch [25/10], Loss: 0.4426\n",
            "Epoch [25/10], Loss: 0.0858\n",
            "Epoch [26/10], Loss: 0.0311\n",
            "Epoch [26/10], Loss: 0.0056\n",
            "Epoch [26/10], Loss: 0.1553\n",
            "Epoch [26/10], Loss: 0.2191\n",
            "Epoch [27/10], Loss: 0.2054\n",
            "Epoch [27/10], Loss: 0.0411\n",
            "Epoch [27/10], Loss: 0.2180\n",
            "Epoch [27/10], Loss: 0.1981\n",
            "Epoch [28/10], Loss: 0.1119\n",
            "Epoch [28/10], Loss: 0.0961\n",
            "Epoch [28/10], Loss: 0.2555\n",
            "Epoch [28/10], Loss: 0.1009\n",
            "Epoch [29/10], Loss: 0.0344\n",
            "Epoch [29/10], Loss: 0.0394\n",
            "Epoch [29/10], Loss: 0.2855\n",
            "Epoch [29/10], Loss: 0.1617\n",
            "Epoch [30/10], Loss: 0.0729\n",
            "Epoch [30/10], Loss: 0.1221\n",
            "Epoch [30/10], Loss: 0.0375\n",
            "Epoch [30/10], Loss: 0.0329\n"
          ]
        }
      ]
    },
    {
      "cell_type": "code",
      "source": [
        "# Test and calculations\n",
        "def evaluate_model(model, dataloader):\n",
        "    device = torch.device(\"cuda\" if torch.cuda.is_available() else \"cpu\")\n",
        "    model = model.to(device)\n",
        "    model.eval()\n",
        "    all_labels = []\n",
        "    all_preds = []\n",
        "\n",
        "    with torch.no_grad():\n",
        "        for images, labels in dataloader:\n",
        "            images, labels = images.to(device), labels.to(device)\n",
        "            outputs = model(images)\n",
        "            _, predicted = torch.max(outputs, 1)\n",
        "            all_labels.extend(labels.cpu().numpy())\n",
        "            all_preds.extend(predicted.cpu().numpy())\n",
        "\n",
        "    return all_labels, all_preds\n"
      ],
      "metadata": {
        "id": "9iOm9ttVEhv5"
      },
      "execution_count": null,
      "outputs": []
    },
    {
      "cell_type": "code",
      "source": [
        "# Evaluation with support(training) dataset\n",
        "support_labels, support_preds = evaluate_model(resnet18_modified, support_dataloader)\n",
        "# Evaluation with query(test) dataset\n",
        "query_labels, query_preds = evaluate_model(resnet18_modified, query_dataloader)"
      ],
      "metadata": {
        "id": "0psnYqHIEi7n"
      },
      "execution_count": null,
      "outputs": []
    },
    {
      "cell_type": "code",
      "source": [
        "# Confusion matrix\n",
        "print(\"Support Data Confusion Matrix\")\n",
        "print(confusion_matrix(support_labels, support_preds))\n",
        "print(\"Support Data Classification Report\")\n",
        "print(classification_report(support_labels, support_preds))\n",
        "\n",
        "print(\"Query Data Confusion Matrix\")\n",
        "print(confusion_matrix(query_labels, query_preds))\n",
        "print(\"Query Data Classification Report\")\n",
        "print(classification_report(query_labels, query_preds))"
      ],
      "metadata": {
        "colab": {
          "base_uri": "https://localhost:8080/"
        },
        "id": "Va1G_FhGEokt",
        "outputId": "5a93d981-27b7-499d-d70f-48bf12650110"
      },
      "execution_count": null,
      "outputs": [
        {
          "output_type": "stream",
          "name": "stdout",
          "text": [
            "Support Data Confusion Matrix\n",
            "[[28  0  0  0]\n",
            " [ 1 27  0  0]\n",
            " [ 2  0 26  0]\n",
            " [ 0  2  4 22]]\n",
            "Support Data Classification Report\n",
            "              precision    recall  f1-score   support\n",
            "\n",
            "           0       0.90      1.00      0.95        28\n",
            "           1       0.93      0.96      0.95        28\n",
            "           2       0.87      0.93      0.90        28\n",
            "           3       1.00      0.79      0.88        28\n",
            "\n",
            "    accuracy                           0.92       112\n",
            "   macro avg       0.93      0.92      0.92       112\n",
            "weighted avg       0.93      0.92      0.92       112\n",
            "\n",
            "Query Data Confusion Matrix\n",
            "[[6 0 0 0]\n",
            " [1 4 1 0]\n",
            " [0 1 5 0]\n",
            " [0 1 0 5]]\n",
            "Query Data Classification Report\n",
            "              precision    recall  f1-score   support\n",
            "\n",
            "           0       0.86      1.00      0.92         6\n",
            "           1       0.67      0.67      0.67         6\n",
            "           2       0.83      0.83      0.83         6\n",
            "           3       1.00      0.83      0.91         6\n",
            "\n",
            "    accuracy                           0.83        24\n",
            "   macro avg       0.84      0.83      0.83        24\n",
            "weighted avg       0.84      0.83      0.83        24\n",
            "\n"
          ]
        }
      ]
    },
    {
      "cell_type": "code",
      "source": [
        "!pip install pandas seaborn matplotlib\n",
        "!pip install seaborn"
      ],
      "metadata": {
        "colab": {
          "base_uri": "https://localhost:8080/"
        },
        "id": "C0SeK0rtP3t1",
        "outputId": "79ea395c-6f93-4b81-faad-79b3cd40988b"
      },
      "execution_count": null,
      "outputs": [
        {
          "output_type": "stream",
          "name": "stdout",
          "text": [
            "Requirement already satisfied: pandas in /usr/local/lib/python3.10/dist-packages (2.0.3)\n",
            "Requirement already satisfied: seaborn in /usr/local/lib/python3.10/dist-packages (0.13.1)\n",
            "Requirement already satisfied: matplotlib in /usr/local/lib/python3.10/dist-packages (3.7.1)\n",
            "Requirement already satisfied: python-dateutil>=2.8.2 in /usr/local/lib/python3.10/dist-packages (from pandas) (2.8.2)\n",
            "Requirement already satisfied: pytz>=2020.1 in /usr/local/lib/python3.10/dist-packages (from pandas) (2023.4)\n",
            "Requirement already satisfied: tzdata>=2022.1 in /usr/local/lib/python3.10/dist-packages (from pandas) (2024.1)\n",
            "Requirement already satisfied: numpy>=1.21.0 in /usr/local/lib/python3.10/dist-packages (from pandas) (1.25.2)\n",
            "Requirement already satisfied: contourpy>=1.0.1 in /usr/local/lib/python3.10/dist-packages (from matplotlib) (1.2.1)\n",
            "Requirement already satisfied: cycler>=0.10 in /usr/local/lib/python3.10/dist-packages (from matplotlib) (0.12.1)\n",
            "Requirement already satisfied: fonttools>=4.22.0 in /usr/local/lib/python3.10/dist-packages (from matplotlib) (4.53.0)\n",
            "Requirement already satisfied: kiwisolver>=1.0.1 in /usr/local/lib/python3.10/dist-packages (from matplotlib) (1.4.5)\n",
            "Requirement already satisfied: packaging>=20.0 in /usr/local/lib/python3.10/dist-packages (from matplotlib) (24.1)\n",
            "Requirement already satisfied: pillow>=6.2.0 in /usr/local/lib/python3.10/dist-packages (from matplotlib) (9.4.0)\n",
            "Requirement already satisfied: pyparsing>=2.3.1 in /usr/local/lib/python3.10/dist-packages (from matplotlib) (3.1.2)\n",
            "Requirement already satisfied: six>=1.5 in /usr/local/lib/python3.10/dist-packages (from python-dateutil>=2.8.2->pandas) (1.16.0)\n",
            "Requirement already satisfied: seaborn in /usr/local/lib/python3.10/dist-packages (0.13.1)\n",
            "Requirement already satisfied: numpy!=1.24.0,>=1.20 in /usr/local/lib/python3.10/dist-packages (from seaborn) (1.25.2)\n",
            "Requirement already satisfied: pandas>=1.2 in /usr/local/lib/python3.10/dist-packages (from seaborn) (2.0.3)\n",
            "Requirement already satisfied: matplotlib!=3.6.1,>=3.4 in /usr/local/lib/python3.10/dist-packages (from seaborn) (3.7.1)\n",
            "Requirement already satisfied: contourpy>=1.0.1 in /usr/local/lib/python3.10/dist-packages (from matplotlib!=3.6.1,>=3.4->seaborn) (1.2.1)\n",
            "Requirement already satisfied: cycler>=0.10 in /usr/local/lib/python3.10/dist-packages (from matplotlib!=3.6.1,>=3.4->seaborn) (0.12.1)\n",
            "Requirement already satisfied: fonttools>=4.22.0 in /usr/local/lib/python3.10/dist-packages (from matplotlib!=3.6.1,>=3.4->seaborn) (4.53.0)\n",
            "Requirement already satisfied: kiwisolver>=1.0.1 in /usr/local/lib/python3.10/dist-packages (from matplotlib!=3.6.1,>=3.4->seaborn) (1.4.5)\n",
            "Requirement already satisfied: packaging>=20.0 in /usr/local/lib/python3.10/dist-packages (from matplotlib!=3.6.1,>=3.4->seaborn) (24.1)\n",
            "Requirement already satisfied: pillow>=6.2.0 in /usr/local/lib/python3.10/dist-packages (from matplotlib!=3.6.1,>=3.4->seaborn) (9.4.0)\n",
            "Requirement already satisfied: pyparsing>=2.3.1 in /usr/local/lib/python3.10/dist-packages (from matplotlib!=3.6.1,>=3.4->seaborn) (3.1.2)\n",
            "Requirement already satisfied: python-dateutil>=2.7 in /usr/local/lib/python3.10/dist-packages (from matplotlib!=3.6.1,>=3.4->seaborn) (2.8.2)\n",
            "Requirement already satisfied: pytz>=2020.1 in /usr/local/lib/python3.10/dist-packages (from pandas>=1.2->seaborn) (2023.4)\n",
            "Requirement already satisfied: tzdata>=2022.1 in /usr/local/lib/python3.10/dist-packages (from pandas>=1.2->seaborn) (2024.1)\n",
            "Requirement already satisfied: six>=1.5 in /usr/local/lib/python3.10/dist-packages (from python-dateutil>=2.7->matplotlib!=3.6.1,>=3.4->seaborn) (1.16.0)\n"
          ]
        }
      ]
    },
    {
      "cell_type": "code",
      "source": [
        "import seaborn as sns\n",
        "import matplotlib.pyplot as plt\n",
        "import pandas as pd\n",
        "from sklearn.metrics import confusion_matrix, classification_report\n",
        "\n",
        "# confusion matrix design\n",
        "support_cm = confusion_matrix(support_labels, support_preds)\n",
        "query_cm = confusion_matrix(query_labels, query_preds)\n",
        "\n",
        "# Accuracy Report\n",
        "support_class_report = classification_report(support_labels, support_preds, output_dict=True)\n",
        "query_class_report = classification_report(query_labels, query_preds, output_dict=True)\n",
        "\n",
        "# Visualization of Confusion matrix\n",
        "def plot_confusion_matrix(cm, title):\n",
        "    plt.figure(figsize=(10, 7))\n",
        "    sns.heatmap(cm, annot=True, fmt='d', cmap='Blues')\n",
        "    plt.title(title)\n",
        "    plt.xlabel('Predicted')\n",
        "    plt.ylabel('True')\n",
        "    plt.show()\n",
        "\n",
        "# Visualization of Accuracy Report\n",
        "def plot_classification_report(class_report, title):\n",
        "    metrics = ['precision', 'recall', 'f1-score']\n",
        "    class_names = list(class_report.keys())[:-3]  # accuracy, macro avg ve weighted avg hariç sınıf isimleri\n",
        "    data = {metric: [class_report[class_name][metric] for class_name in class_names] for metric in metrics}\n",
        "    df = pd.DataFrame(data, index=class_names)\n",
        "\n",
        "    df.plot(kind='bar', figsize=(12, 8))\n",
        "    plt.title(title)\n",
        "    plt.ylabel('Score')\n",
        "    plt.xlabel('Classes')\n",
        "    plt.ylim(0, 1)\n",
        "    plt.show()\n",
        "\n",
        "# Visualization of confusion matrix and accuracy report for support(training) dataset\n",
        "plot_confusion_matrix(support_cm, \"Support Data Confusion Matrix\")\n",
        "plot_classification_report(support_class_report, \"Support Data Classification Report\")\n",
        "\n",
        "# Visualization of confusion matrix and accuracy report for query(test) dataset\n",
        "plot_confusion_matrix(query_cm, \"Query Data Confusion Matrix\")\n",
        "plot_classification_report(query_class_report, \"Query Data Classification Report\")\n"
      ],
      "metadata": {
        "colab": {
          "base_uri": "https://localhost:8080/",
          "height": 1000
        },
        "id": "9xDJFCSsPlEc",
        "outputId": "5f6bb81e-bb1f-4591-dd39-6989e8f47396"
      },
      "execution_count": null,
      "outputs": [
        {
          "output_type": "display_data",
          "data": {
            "text/plain": [
              "<Figure size 1000x700 with 2 Axes>"
            ],
            "image/png": "[encoded data removed]"
          },
          "metadata": {}
        },
        {
          "output_type": "display_data",
          "data": {
            "text/plain": [
              "<Figure size 1200x800 with 1 Axes>"
            ],
            "image/png": "[encoded data removed]"
          },
          "metadata": {}
        },
        {
          "output_type": "display_data",
          "data": {
            "text/plain": [
              "<Figure size 1000x700 with 2 Axes>"
            ],
            "image/png": "[encoded data removed]"
          },
          "metadata": {}
        },
        {
          "output_type": "display_data",
          "data": {
            "text/plain": [
              "<Figure size 1200x800 with 1 Axes>"
            ],
            "image/png": "[encoded data removed]"
          },
          "metadata": {}
        }
      ]
    }
  ]
}
